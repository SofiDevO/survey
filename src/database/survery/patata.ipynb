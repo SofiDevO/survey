{
 "cells": [
  {
   "cell_type": "code",
   "execution_count": null,
   "metadata": {},
   "outputs": [],
   "source": [
    "try {\n",
    "    const result = await SURVERY_DB.insertAsync({name: 'pepito', lastname: 'grillo', age: 20})\n",
    "//codigo de todo ok\n",
    " } catch (error) {\n",
    "    // codigo de todo mal\n",
    "}"
   ]
  }
 ],
 "metadata": {
  "language_info": {
   "name": "python"
  }
 },
 "nbformat": 4,
 "nbformat_minor": 2
}
